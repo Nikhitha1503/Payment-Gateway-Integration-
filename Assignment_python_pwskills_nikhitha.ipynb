{
  "cells": [
    {
      "cell_type": "markdown",
      "metadata": {
        "id": "view-in-github",
        "colab_type": "text"
      },
      "source": [
        "<a href=\"https://colab.research.google.com/github/Nikhitha1503/Payment-Gateway-Integration-/blob/main/Assignment_python_pwskills_nikhitha.ipynb\" target=\"_parent\"><img src=\"https://colab.research.google.com/assets/colab-badge.svg\" alt=\"Open In Colab\"/></a>"
      ]
    },
    {
      "cell_type": "markdown",
      "source": [
        "**1.Explain the key features of Python that make it a popular choice for programming.**\n",
        "\n",
        " Python is a dynamic, high-level, open-source programming language that is free to use and interpreted. It supports both object-oriented and procedural programming, making it versatile for different coding styles. Compared to languages like C, C#, JavaScript, and Java, Python is much easier to learn, with a simple syntax that allows beginners to grasp the basics in just a few hours or days. Python’s readability and simplicity make it accessible to anyone. As an interpreted language, Python executes code line by line, which simplifies debugging, unlike languages such as C, C++, and Java, where code compilation is required.\n"
      ],
      "metadata": {
        "id": "XY98JKwmPuuh"
      }
    },
    {
      "cell_type": "markdown",
      "source": [
        "**2.Describe the role of predefined keywords in Python and provide examples of how they are used in a program?**\n",
        "\n",
        "Predefined keywords in Python are reserved words that have special meanings and are integral to the language's syntax and structure. These keywords are essential for defining the behavior of the program, controlling the flow of execution, and implementing various programming concepts like loops, conditions, functions, and classes. Since they have predefined meanings, keywords cannot be used as variable names, function names, or any other identifier in your code.\n"
      ],
      "metadata": {
        "id": "MWYI6odCQDXB"
      }
    },
    {
      "cell_type": "code",
      "source": [
        "x = 10\n",
        "if x > 5:\n",
        " print(\"x is greater than 5\")\n",
        "elif x == 5:\n",
        "  print(\"x is equal to 5\")\n",
        "else:\n",
        "  print(\"x is less than 5\")\n"
      ],
      "metadata": {
        "colab": {
          "base_uri": "https://localhost:8080/"
        },
        "id": "HgTiOi39QMq1",
        "outputId": "58e71112-c5c3-48b2-efbf-cd4def6df5d5"
      },
      "execution_count": null,
      "outputs": [
        {
          "output_type": "stream",
          "name": "stdout",
          "text": [
            "x is greater than 5\n"
          ]
        }
      ]
    },
    {
      "cell_type": "markdown",
      "source": [
        "**3.Compare and contrast mutable and immutable objects in Python with examples?**\n",
        "\n",
        "Mutable objects are those whose value or state can be changed after they are created. Common examples of mutable objects in Python include lists, dictionaries, and sets.\n"
      ],
      "metadata": {
        "id": "VKbfmsHiQhCQ"
      }
    },
    {
      "cell_type": "code",
      "source": [
        "my_list = [1, 2, 3]\n",
        "my_list.append(4)\n",
        "print(my_list)"
      ],
      "metadata": {
        "colab": {
          "base_uri": "https://localhost:8080/"
        },
        "id": "pKedsQQkQptW",
        "outputId": "6804bed9-ae56-448a-c9b7-bd9ac7dea737"
      },
      "execution_count": null,
      "outputs": [
        {
          "output_type": "stream",
          "name": "stdout",
          "text": [
            "[1, 2, 3, 4]\n"
          ]
        }
      ]
    },
    {
      "cell_type": "markdown",
      "source": [
        "Immutable objects are those whose state cannot be modified after they are created. Examples of immutable objects in Python include strings, tuples, and numbers\n"
      ],
      "metadata": {
        "id": "NzwTw1ZqQrNm"
      }
    },
    {
      "cell_type": "code",
      "source": [
        "my_string = \"hello\"\n",
        "new_string = my_string.upper()\n",
        "print(my_string)\n",
        "print(new_string)\n"
      ],
      "metadata": {
        "colab": {
          "base_uri": "https://localhost:8080/"
        },
        "id": "Pv_fpcKXQuL4",
        "outputId": "c7179431-59a7-4bec-a546-a49d3095fb37"
      },
      "execution_count": null,
      "outputs": [
        {
          "output_type": "stream",
          "name": "stdout",
          "text": [
            "hello\n",
            "HELLO\n"
          ]
        }
      ]
    },
    {
      "cell_type": "markdown",
      "source": [
        "**4.Discuss the different types of operators in Python and provide examples of how they are used?**\n",
        "\n",
        "operators can be categorized into several types based on the operations they perform\n"
      ],
      "metadata": {
        "id": "vtYGZjKWQ0ke"
      }
    },
    {
      "cell_type": "code",
      "source": [
        "##1.Arithmetic Operators +,-,*,%\n",
        "x = 10\n",
        "y = 5\n",
        "result = x + y\n",
        "print(result)\n"
      ],
      "metadata": {
        "colab": {
          "base_uri": "https://localhost:8080/"
        },
        "id": "VswrL0ZYRHh6",
        "outputId": "1c44cc8d-41f2-40ee-9d6c-692366a42ecb"
      },
      "execution_count": null,
      "outputs": [
        {
          "output_type": "stream",
          "name": "stdout",
          "text": [
            "15\n"
          ]
        }
      ]
    },
    {
      "cell_type": "code",
      "source": [
        "##2.Comparison Operators  ==, !=,\n",
        "x = 10\n",
        "y = 5\n",
        "result = (x == y)\n"
      ],
      "metadata": {
        "id": "guO4ZBMNRMwz"
      },
      "execution_count": null,
      "outputs": []
    },
    {
      "cell_type": "code",
      "source": [
        "##3. Logical Operators Or, not, and\n",
        "result = (x > 5 and y < 10)\n"
      ],
      "metadata": {
        "id": "MgipDktgRrXd"
      },
      "execution_count": null,
      "outputs": []
    },
    {
      "cell_type": "code",
      "source": [
        "## 4. Assignment Operators  =, +=, -=\n",
        "x -= 5\n"
      ],
      "metadata": {
        "id": "2-b0sn9ZRyMu"
      },
      "execution_count": null,
      "outputs": []
    },
    {
      "cell_type": "code",
      "source": [
        "##5. Bitwise Operators  and,or,not,xor\n",
        "x = 5\n",
        "y = 3\n",
        "Result =  x & y\n"
      ],
      "metadata": {
        "id": "cnIwzCgJR3tD"
      },
      "execution_count": null,
      "outputs": []
    },
    {
      "cell_type": "markdown",
      "source": [
        "5.** Explain the concept of type casting in Python with examples.**\n",
        "\n",
        "Type casting in Python refers to the process of converting a variable from one data type to another.\n",
        "\n",
        "Implicit Type Casting:\n",
        "This is done automatically by Python. It occurs when Python converts one data type to another without explicit instruction. This usually happens when mixing data types in expressions where one type has higher precision.\n"
      ],
      "metadata": {
        "id": "479nhg2RR8Em"
      }
    },
    {
      "cell_type": "code",
      "source": [
        "x = 10   # integer\n",
        "y = 3.14  # float\n",
        "\n",
        "result = x + y  # Python automatically converts x to float\n",
        "print(result)  # Output: 13.14\n",
        "print(type(result))  # Output: <class 'float'>\n"
      ],
      "metadata": {
        "colab": {
          "base_uri": "https://localhost:8080/"
        },
        "id": "go8KHAUPSOUh",
        "outputId": "3fa412a2-4727-451a-a4b6-42a5ccdd1a51"
      },
      "execution_count": null,
      "outputs": [
        {
          "output_type": "stream",
          "name": "stdout",
          "text": [
            "13.14\n",
            "<class 'float'>\n"
          ]
        }
      ]
    },
    {
      "cell_type": "markdown",
      "source": [
        "Explicit Type Casting:\n",
        "This is performed by the programmer using Python's built-in functions. It is necessary when Python does not automatically convert types as needed or when you want to enforce a specific type.\n"
      ],
      "metadata": {
        "id": "ElCvSc12STnm"
      }
    },
    {
      "cell_type": "code",
      "source": [
        "x = 5\n",
        "y = float(x)\n",
        "print(y)\n",
        "print(type(y))"
      ],
      "metadata": {
        "colab": {
          "base_uri": "https://localhost:8080/"
        },
        "id": "8sCPu9VUSU-V",
        "outputId": "5b1eefab-2cfc-401a-ea45-4538daf80a1e"
      },
      "execution_count": null,
      "outputs": [
        {
          "output_type": "stream",
          "name": "stdout",
          "text": [
            "5.0\n",
            "<class 'float'>\n"
          ]
        }
      ]
    },
    {
      "cell_type": "markdown",
      "source": [
        "**6. How do conditional statements work in Python? Illustrate with examples.**\n",
        "\n",
        "Conditional Statements are statements in Python that provide a choice for the control flow based on a condition.\n"
      ],
      "metadata": {
        "id": "Icxxoa31SYuq"
      }
    },
    {
      "cell_type": "code",
      "source": [
        "#if Statement\n",
        "#If condition\n",
        "x = 10\n",
        "if x > 5:\n",
        " print(\"x is greater than 5\")\n",
        "   ## 2.  if-else Statement\n",
        "\n",
        "if x > 5:\n",
        "    print(\"x is greater than 5\")\n",
        "else:\n",
        "    print(\"x is not greater than 5\")\n",
        "##3. if-elif-else Statement\n",
        "x = 7\n",
        "if x > 10:\n",
        " print(\"x is greater than 10\")\n",
        "elif x == 7:\n",
        "    print(\"x is equal to 7\")\n",
        "else:\n",
        "    print(\"x is less than 10 and not equal to 7\")\n",
        "##4.Nested if Statements\n",
        "x = 15\n",
        "if x > 10:\n",
        "    print(\"x is greater than 10\")\n",
        "    if x > 20:\n",
        "        print(\"x is also greater than 20\")\n",
        "    else:\n",
        "        print(\"x is not greater than 20\")\n",
        "else:\n",
        "    print(\"x is not greater than 10\")\n"
      ],
      "metadata": {
        "colab": {
          "base_uri": "https://localhost:8080/"
        },
        "id": "dXH7oBWyR7TF",
        "outputId": "a7331f0a-c22d-4905-db9b-62df591e752c"
      },
      "execution_count": null,
      "outputs": [
        {
          "output_type": "stream",
          "name": "stdout",
          "text": [
            "x is greater than 5\n",
            "x is greater than 5\n",
            "x is equal to 7\n",
            "x is greater than 10\n",
            "x is not greater than 20\n"
          ]
        }
      ]
    },
    {
      "cell_type": "markdown",
      "source": [
        "**7. Describe the different types of loops in Python and their use cases with examples.**\n",
        "\n",
        "Python provides two main types of loops that allow you to execute a block of code repeatedly: forloops and while loops.\n"
      ],
      "metadata": {
        "id": "zyRYHimMTOU_"
      }
    },
    {
      "cell_type": "code",
      "source": [
        "##The for loop is used to iterate over a sequence (such as a list, tuple, dictionary, set, or string) and execute a block of code for each item in the sequence.\n",
        "fruits = [\"apple\", \"banana\", \"cherry\"]\n",
        "##2. while Loop\n",
        "##The while loop repeatedly executes a block of code as long as a specified condition is true.\n",
        "i = 0\n",
        "while i < 5:\n",
        "    print(i)\n",
        "    i += 1\n",
        "for fruit in fruits:\n",
        "    print(fruit)\n",
        "##3. Nested Loops\n",
        "##Nested loops are loops within loops. You can use any combination of for and while loops inside one another.\n",
        "for i in range(3):\n",
        "    for j in range(2):\n",
        "        print(f\"i = {i}, j = {j}\")\n",
        "##4. break and continue Statements\n",
        "##These statements are used to alter the flow of a loop.\n",
        "##break: Exits the loop prematurely, regardless of the loop's condition.\n",
        "##continue: Skips the current iteration and moves to the next iteration of the loop.\n",
        "for i in range(10):\n",
        "    if i == 5:\n",
        "        break\n",
        "    print(i)\n",
        "##5. else Clause with Loops\n",
        "##Python allows an else clause with loops, which executes after the loop completes normally (without a break).\n",
        "for i in range(5):\n",
        "    if i == 3:\n",
        "        break\n",
        "    print(i)\n",
        "else:\n",
        "    print(\"Loop finished!\")\n",
        "\n"
      ],
      "metadata": {
        "colab": {
          "base_uri": "https://localhost:8080/"
        },
        "id": "iwGN9jGjTT5s",
        "outputId": "d4e47853-e3b8-423a-8cc5-e4657701fe0e"
      },
      "execution_count": null,
      "outputs": [
        {
          "output_type": "stream",
          "name": "stdout",
          "text": [
            "0\n",
            "1\n",
            "2\n",
            "3\n",
            "4\n",
            "apple\n",
            "banana\n",
            "cherry\n",
            "i = 0, j = 0\n",
            "i = 0, j = 1\n",
            "i = 1, j = 0\n",
            "i = 1, j = 1\n",
            "i = 2, j = 0\n",
            "i = 2, j = 1\n",
            "0\n",
            "1\n",
            "2\n",
            "3\n",
            "4\n",
            "0\n",
            "1\n",
            "2\n"
          ]
        }
      ]
    },
    {
      "cell_type": "code",
      "source": [],
      "metadata": {
        "id": "LzBUoMaSTJPv"
      },
      "execution_count": null,
      "outputs": []
    }
  ],
  "metadata": {
    "colab": {
      "provenance": [],
      "authorship_tag": "ABX9TyME/S5/uRNtPxKTKP8AfmcR",
      "include_colab_link": true
    },
    "kernelspec": {
      "display_name": "Python 3",
      "name": "python3"
    },
    "language_info": {
      "name": "python"
    }
  },
  "nbformat": 4,
  "nbformat_minor": 0
}